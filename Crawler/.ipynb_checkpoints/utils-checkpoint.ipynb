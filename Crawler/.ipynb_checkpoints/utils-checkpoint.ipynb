{
 "cells": [
  {
   "cell_type": "code",
   "execution_count": 3,
   "metadata": {},
   "outputs": [],
   "source": [
    "import re\n",
    "\n",
    "from selenium import webdriver\n",
    "from selenium.webdriver.common.action_chains import ActionChains\n",
    "from selenium.webdriver.common.by import By\n",
    "from selenium.webdriver.support import expected_conditions\n",
    "from selenium.webdriver.support.wait import WebDriverWait\n",
    "from selenium.webdriver.chrome.options import Options"
   ]
  },
  {
   "cell_type": "code",
   "execution_count": 1,
   "metadata": {},
   "outputs": [],
   "source": [
    "def Get_html_tags(browser):\n",
    "    '''Remain significant tags (not contains annotated tags)'''\n",
    "    \n",
    "    with open('/home/buneoliou/Crawler/Project_Books/status_text.csv','r') as f:\n",
    "        print(eval(f.read())['Get_html_tags']['status_text'])\n",
    "        \n",
    "    tag_pattern = r'<\\w+[a-z\\s>]|</[\\w+]+?>'\n",
    "    \n",
    "    page_src = browser.page_source\n",
    "    ignore_tag = re.findall('(\\<\\!\\-\\-.*\\-*\\-*\\>*)(\\s*)(.*\\-\\-\\>)' , page_src)\n",
    "    \n",
    "    while ignore_tag != []:\n",
    "        page_src = page_src.replace(ignore_tag[0][0],'')\n",
    "        page_src = page_src.replace(ignore_tag[0][2],'')\n",
    "        ignore_tag = re.findall('(\\<\\!\\-\\-.*\\-*\\-*\\>*)(\\s*)(.*\\-\\-\\>)' , page_src)\n",
    "        \n",
    "    page_full_tags = re.findall(tag_pattern,page_src)\n",
    "\n",
    "    return page_full_tags , page_src"
   ]
  },
  {
   "cell_type": "code",
   "execution_count": 3,
   "metadata": {},
   "outputs": [],
   "source": [
    "def Remain_body_tags(page_full_tag , print_out = False):\n",
    "    \n",
    "    with open('/home/buneoliou/Crawler/Project_Books/status_text.csv','r') as f:\n",
    "        print(eval(f.read())['Remain_body_tags']['status_text'])\n",
    "    \n",
    "    body_tag = []\n",
    "    clean_body_tag = []\n",
    "    pop_list = ['link','br','pre','hr','b','i','u','sup','sub','font','tr','th','td','bgsound','embed','strong','em',\n",
    "            'map','script','noscript','time','blockquote','area','button','input']\n",
    "    \n",
    "    try :\n",
    "        head_body_index = page_full_tag.index('<body>')\n",
    "    except ValueError:\n",
    "        head_body_index = page_full_tag.index('<body ')\n",
    "    \n",
    "    try:\n",
    "        end_body_index = page_full_tag.index('</body>')\n",
    "    except ValueError:\n",
    "        end_body_index = page_full_tag.index('</body ')\n",
    "        \n",
    "    body_tag = page_full_tag[head_body_index+1:end_body_index]\n",
    "    \n",
    "    for tag in body_tag:\n",
    "        clean_body_tag.append(tag.replace('<','').replace('>','').replace(' ',''))\n",
    "        \n",
    "\n",
    "    for target in pop_list:\n",
    "\n",
    "        h = 0\n",
    "        t = 0\n",
    "        try:\n",
    "            while clean_body_tag.index(target) or clean_body_tag.index(target) == 0 :\n",
    "                clean_body_tag.pop(clean_body_tag.index(target))\n",
    "                h = h + 1\n",
    "        except ValueError:\n",
    "            pass\n",
    "            \n",
    "        try:\n",
    "            while clean_body_tag.index(f\"/{target}\") or clean_body_tag.index(f\"/{target}\") == 0:\n",
    "                clean_body_tag.pop(clean_body_tag.index(f\"/{target}\"))\n",
    "                t = t + 1\n",
    "        except ValueError:\n",
    "            pass\n",
    "        if print_out :\n",
    "            print('【 {0:<10s} 】 Head : {1} ; Tail {2} \\r\\n----------------------'.format(target,h,t))      \n",
    "    return clean_body_tag"
   ]
  }
 ],
 "metadata": {
  "kernelspec": {
   "display_name": "Python 3",
   "language": "python",
   "name": "python3"
  },
  "language_info": {
   "codemirror_mode": {
    "name": "ipython",
    "version": 3
   },
   "file_extension": ".py",
   "mimetype": "text/x-python",
   "name": "python",
   "nbconvert_exporter": "python",
   "pygments_lexer": "ipython3",
   "version": "3.8.3"
  },
  "toc": {
   "base_numbering": 1,
   "nav_menu": {},
   "number_sections": true,
   "sideBar": true,
   "skip_h1_title": false,
   "title_cell": "Table of Contents",
   "title_sidebar": "Contents",
   "toc_cell": false,
   "toc_position": {},
   "toc_section_display": true,
   "toc_window_display": false
  }
 },
 "nbformat": 4,
 "nbformat_minor": 4
}
